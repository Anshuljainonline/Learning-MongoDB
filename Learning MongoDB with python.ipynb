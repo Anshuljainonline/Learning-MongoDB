{
 "cells": [
  {
   "cell_type": "code",
   "execution_count": 1,
   "metadata": {},
   "outputs": [],
   "source": [
    "import pymongo\n",
    "\n",
    "client= pymongo.MongoClient('mongodb://127.0.0.1:27017/', connect=False)\n",
    "\n",
    "mydb=client[\"Employee\"]\n",
    "\n",
    "empinfo= mydb.employeeinformation"
   ]
  },
  {
   "cell_type": "markdown",
   "metadata": {},
   "source": [
    "# Querring the Values"
   ]
  },
  {
   "cell_type": "code",
   "execution_count": 10,
   "metadata": {},
   "outputs": [
    {
     "data": {
      "text/plain": [
       "<pymongo.results.InsertOneResult at 0x1a88bbe2088>"
      ]
     },
     "execution_count": 10,
     "metadata": {},
     "output_type": "execute_result"
    }
   ],
   "source": [
    "records={\n",
    "    'firstname' : 'Rajesh',\n",
    "    'lastname'  : 'sharme',\n",
    "    'qualification' : \"BE\",\n",
    "    'department'  :  \"software\"\n",
    "}\n",
    "\n",
    "empinfo.insert_one(records)"
   ]
  },
  {
   "cell_type": "code",
   "execution_count": 12,
   "metadata": {},
   "outputs": [
    {
     "data": {
      "text/plain": [
       "<pymongo.results.InsertManyResult at 0x1a88c287108>"
      ]
     },
     "execution_count": 12,
     "metadata": {},
     "output_type": "execute_result"
    }
   ],
   "source": [
    "records=[{\n",
    "    'firstname' : 'Rajesh',\n",
    "    'lastname'  : 'sharme',\n",
    "    'qualification' : \"BE\",\n",
    "    'department'  :  \"software\"\n",
    "},\n",
    "    {\n",
    "       'firstname' : 'manish',\n",
    "    'lastname'  : 'shar',\n",
    "    'qualification' : \"BE\",\n",
    "    'department'  :  \"IT\" \n",
    "    },\n",
    "    {\n",
    "    'firstname' : 'sober',\n",
    "    'lastname'  : 'vrases',\n",
    "    'qualification' : \"BE\",\n",
    "    'department'  :  \"EC\"\n",
    "},\n",
    "    {\n",
    "       'firstname' : 'dheeraj',\n",
    "    'lastname'  : 'gupta',\n",
    "    'qualification' : \"BE\",\n",
    "    'department'  :  \"EEE\" \n",
    "    }]\n",
    "\n",
    "empinfo.insert_many(records)"
   ]
  },
  {
   "cell_type": "code",
   "execution_count": 13,
   "metadata": {},
   "outputs": [],
   "source": [
    "## Querying (Basic)"
   ]
  },
  {
   "cell_type": "code",
   "execution_count": 2,
   "metadata": {},
   "outputs": [
    {
     "data": {
      "text/plain": [
       "{'_id': ObjectId('5ff8a7bcfbf0dfc8d1b33a86'),\n",
       " 'firstname': 'Anshulj',\n",
       " 'lastname': 'jjain',\n",
       " 'dept': 'analytics'}"
      ]
     },
     "execution_count": 2,
     "metadata": {},
     "output_type": "execute_result"
    }
   ],
   "source": [
    "empinfo.find_one()"
   ]
  },
  {
   "cell_type": "code",
   "execution_count": 3,
   "metadata": {},
   "outputs": [
    {
     "name": "stdout",
     "output_type": "stream",
     "text": [
      "{'_id': ObjectId('5ff8a7bcfbf0dfc8d1b33a86'), 'firstname': 'Anshulj', 'lastname': 'jjain', 'dept': 'analytics'}\n",
      "{'_id': ObjectId('5ff8a92bfbf0dfc8d1b33a8d'), 'firstname': 'Anshulj', 'lastname': 'jjain', 'dept': 'analytics'}\n",
      "{'_id': ObjectId('5ff8a92bfbf0dfc8d1b33a8e'), 'firstname': 'Anshulj2', 'lastname': 'jjain2', 'dept': 'analytic2'}\n",
      "{'_id': ObjectId('5ff8b4e45ea175b7919f5bc5'), 'firstname': 'Rajesh', 'lastname': 'sharme', 'qualification': 'BE', 'department': 'software'}\n",
      "{'_id': ObjectId('5ff8b5b45ea175b7919f5bc6'), 'firstname': 'Rajesh', 'lastname': 'sharme', 'qualification': 'BE', 'department': 'software'}\n",
      "{'_id': ObjectId('5ff8b5b45ea175b7919f5bc7'), 'firstname': 'manish', 'lastname': 'shar', 'qualification': 'BE', 'department': 'IT'}\n",
      "{'_id': ObjectId('5ff8b5b45ea175b7919f5bc8'), 'firstname': 'sober', 'lastname': 'vrases', 'qualification': 'BE', 'department': 'EC'}\n",
      "{'_id': ObjectId('5ff8b5b45ea175b7919f5bc9'), 'firstname': 'dheeraj', 'lastname': 'gupta', 'qualification': 'BE', 'department': 'EEE'}\n"
     ]
    }
   ],
   "source": [
    "# TO query all the documents\n",
    "for record in empinfo.find():\n",
    "    print(record)"
   ]
  },
  {
   "cell_type": "code",
   "execution_count": 18,
   "metadata": {},
   "outputs": [
    {
     "data": {
      "text/plain": [
       "{'_id': ObjectId('5ff8b5b45ea175b7919f5bc8'),\n",
       " 'firstname': 'sober',\n",
       " 'lastname': 'vrases',\n",
       " 'qualification': 'BE',\n",
       " 'department': 'EC'}"
      ]
     },
     "execution_count": 18,
     "metadata": {},
     "output_type": "execute_result"
    }
   ],
   "source": [
    "# where first name is Anshul\n",
    "\n",
    "empinfo.find_one({'firstname' : 'sober'})\n"
   ]
  },
  {
   "cell_type": "code",
   "execution_count": 20,
   "metadata": {},
   "outputs": [],
   "source": [
    "## Query Operatiors ($in,$lt etc)"
   ]
  },
  {
   "cell_type": "code",
   "execution_count": 26,
   "metadata": {},
   "outputs": [
    {
     "name": "stdout",
     "output_type": "stream",
     "text": [
      "{'_id': ObjectId('5ff8b4e45ea175b7919f5bc5'), 'firstname': 'Rajesh', 'lastname': 'sharme', 'qualification': 'BE', 'department': 'software'}\n",
      "{'_id': ObjectId('5ff8b5b45ea175b7919f5bc6'), 'firstname': 'Rajesh', 'lastname': 'sharme', 'qualification': 'BE', 'department': 'software'}\n",
      "{'_id': ObjectId('5ff8b5b45ea175b7919f5bc7'), 'firstname': 'manish', 'lastname': 'shar', 'qualification': 'BE', 'department': 'IT'}\n",
      "{'_id': ObjectId('5ff8b5b45ea175b7919f5bc8'), 'firstname': 'sober', 'lastname': 'vrases', 'qualification': 'BE', 'department': 'EC'}\n",
      "{'_id': ObjectId('5ff8b5b45ea175b7919f5bc9'), 'firstname': 'dheeraj', 'lastname': 'gupta', 'qualification': 'BE', 'department': 'EEE'}\n"
     ]
    }
   ],
   "source": [
    "for record in empinfo.find({'qualification': {'$in': ['phd','BE']}}):\n",
    "    print(record)"
   ]
  },
  {
   "cell_type": "code",
   "execution_count": 15,
   "metadata": {},
   "outputs": [
    {
     "name": "stdout",
     "output_type": "stream",
     "text": [
      "{'_id': ObjectId('5ff8b5b45ea175b7919f5bc7'), 'firstname': 'manish', 'lastname': 'shar', 'qualification': 'BE', 'department': 'IT'}\n",
      "{'_id': ObjectId('5ff8b5b45ea175b7919f5bc8'), 'firstname': 'sober', 'lastname': 'vrases', 'qualification': 'BE', 'department': 'EC'}\n"
     ]
    }
   ],
   "source": [
    "# or ooperator\n",
    "\n",
    "for record in empinfo.find({'$or' : [{'firstname' : 'sober'}, {'department':{'$in': ['IT','EC']}} ]}):\n",
    "    print(record)"
   ]
  },
  {
   "cell_type": "code",
   "execution_count": 14,
   "metadata": {},
   "outputs": [
    {
     "name": "stdout",
     "output_type": "stream",
     "text": [
      "{'_id': ObjectId('5ff8b5b45ea175b7919f5bc7'), 'firstname': 'manish', 'lastname': 'shar', 'qualification': 'BE', 'department': 'IT'}\n"
     ]
    }
   ],
   "source": [
    "# or ooperator\n",
    "\n",
    "for record in empinfo.find({'$and' : [{'firstname' : 'manish'}, {'department':{'$in': ['IT','EC']}} ]}):\n",
    "    print(record)"
   ]
  },
  {
   "cell_type": "code",
   "execution_count": 17,
   "metadata": {},
   "outputs": [],
   "source": [
    "inventory=mydb.inventory"
   ]
  },
  {
   "cell_type": "code",
   "execution_count": 18,
   "metadata": {},
   "outputs": [],
   "source": [
    "inventory.insert_many( [\n",
    "   { 'item': \"journal\", 'qty': 25, 'size': { 'h': 14, 'w': 21,'uom': \"cm\" }, 'status': \"A\" },\n",
    "   { 'item': \"notebook\", 'qty': 50,'size': { 'h': 8.5, 'w': 11,'uom': \"in\" },'status': \"A\" },\n",
    "   { 'item': \"paper\", 'qty': 100, 'size': { 'h': 8.5, 'w': 11,'uom': \"in\" },'status': \"D\" },\n",
    "   { 'item': \"planner\", 'qty': 75, 'size': { 'h': 22.85,'w': 30,'uom': \"cm\" },'status': \"D\" },\n",
    "   { 'item': \"postcard\", 'qty': 45, 'size': { 'h': 10, 'w': 15.25,'uom': \"cm\" },'status': \"A\" }\n",
    "]);"
   ]
  },
  {
   "cell_type": "code",
   "execution_count": 23,
   "metadata": {},
   "outputs": [
    {
     "name": "stdout",
     "output_type": "stream",
     "text": [
      "{'_id': ObjectId('5ff940dd26e154c8799cecbc'), 'item': 'journal', 'qty': 25, 'size': {'h': 14, 'w': 21, 'uom': 'cm'}, 'status': 'A'}\n"
     ]
    }
   ],
   "source": [
    "for record in inventory.find({'size': { 'h': 14, 'w': 21,'uom': \"cm\" }}):\n",
    "    print(record)"
   ]
  },
  {
   "cell_type": "markdown",
   "metadata": {},
   "source": [
    "# Updating JSON Documentsin Mongo DB"
   ]
  },
  {
   "cell_type": "code",
   "execution_count": 24,
   "metadata": {},
   "outputs": [
    {
     "data": {
      "text/plain": [
       "<pymongo.results.InsertManyResult at 0x2068e320ec8>"
      ]
     },
     "execution_count": 24,
     "metadata": {},
     "output_type": "execute_result"
    }
   ],
   "source": [
    "inventory.insert_many([\n",
    "    {\"item\": \"canvas\",\n",
    "     \"qty\": 100,\n",
    "     \"size\": {\"h\": 28, \"w\": 35.5, \"uom\": \"cm\"},\n",
    "     \"status\": \"A\"},\n",
    "    {\"item\": \"journal\",\n",
    "     \"qty\": 25,\n",
    "     \"size\": {\"h\": 14, \"w\": 21, \"uom\": \"cm\"},\n",
    "     \"status\": \"A\"},\n",
    "    {\"item\": \"mat\",\n",
    "     \"qty\": 85,\n",
    "     \"size\": {\"h\": 27.9, \"w\": 35.5, \"uom\": \"cm\"},\n",
    "     \"status\": \"A\"},\n",
    "    {\"item\": \"mousepad\",\n",
    "     \"qty\": 25,\n",
    "     \"size\": {\"h\": 19, \"w\": 22.85, \"uom\": \"cm\"},\n",
    "     \"status\": \"P\"},\n",
    "    {\"item\": \"notebook\",\n",
    "     \"qty\": 50,\n",
    "     \"size\": {\"h\": 8.5, \"w\": 11, \"uom\": \"in\"},\n",
    "     \"status\": \"P\"},\n",
    "    {\"item\": \"paper\",\n",
    "     \"qty\": 100,\n",
    "     \"size\": {\"h\": 8.5, \"w\": 11, \"uom\": \"in\"},\n",
    "     \"status\": \"D\"},\n",
    "    {\"item\": \"planner\",\n",
    "     \"qty\": 75,\n",
    "     \"size\": {\"h\": 22.85, \"w\": 30, \"uom\": \"cm\"},\n",
    "     \"status\": \"D\"},\n",
    "    {\"item\": \"postcard\",\n",
    "     \"qty\": 45,\n",
    "     \"size\": {\"h\": 10, \"w\": 15.25, \"uom\": \"cm\"},\n",
    "     \"status\": \"A\"},\n",
    "    {\"item\": \"sketchbook\",\n",
    "     \"qty\": 80,\n",
    "     \"size\": {\"h\": 14, \"w\": 21, \"uom\": \"cm\"},\n",
    "     \"status\": \"A\"},\n",
    "    {\"item\": \"sketch pad\",\n",
    "     \"qty\": 95,\n",
    "     \"size\": {\"h\": 22.85, \"w\": 30.5, \"uom\": \"cm\"},\n",
    "     \"status\": \"A\"}])"
   ]
  },
  {
   "cell_type": "markdown",
   "metadata": {},
   "source": [
    "### Update"
   ]
  },
  {
   "cell_type": "code",
   "execution_count": 29,
   "metadata": {},
   "outputs": [
    {
     "data": {
      "text/plain": [
       "<pymongo.results.UpdateResult at 0x2068e323308>"
      ]
     },
     "execution_count": 29,
     "metadata": {},
     "output_type": "execute_result"
    }
   ],
   "source": [
    "inventory.update_one({\"item\":\"sketch pad\"},\n",
    "                    {'$set': {\"size.uom\" : \"in\",\"status\":\"P\" }, \n",
    "                     '$currentDate':{\"lastModified\" : True}}\n",
    "                    \n",
    "                    )"
   ]
  },
  {
   "cell_type": "code",
   "execution_count": 30,
   "metadata": {},
   "outputs": [
    {
     "data": {
      "text/plain": [
       "{'_id': ObjectId('5ff9498d26e154c8799cecca'),\n",
       " 'item': 'sketch pad',\n",
       " 'qty': 95,\n",
       " 'size': {'h': 22.85, 'w': 30.5, 'uom': 'in'},\n",
       " 'status': 'P',\n",
       " 'lastModified': datetime.datetime(2021, 1, 9, 7, 17, 54, 568000)}"
      ]
     },
     "execution_count": 30,
     "metadata": {},
     "output_type": "execute_result"
    }
   ],
   "source": [
    "inventory.find_one({\"item\" : \"sketch pad\"})"
   ]
  },
  {
   "cell_type": "markdown",
   "metadata": {},
   "source": [
    "### Replace"
   ]
  },
  {
   "cell_type": "code",
   "execution_count": 31,
   "metadata": {},
   "outputs": [
    {
     "data": {
      "text/plain": [
       "<pymongo.results.UpdateResult at 0x2068e31a588>"
      ]
     },
     "execution_count": 31,
     "metadata": {},
     "output_type": "execute_result"
    }
   ],
   "source": [
    "inventory.replace_one(\n",
    "    {'item' : \"paper\"},\n",
    "    {'item' : 'paper',\n",
    "    \"instock\": [\n",
    "        {\"warehouse\" : \"A\", \"qty\": 60},\n",
    "        {\"warehouse\" : \"B\", \"qty\": 40}\n",
    "    ]}\n",
    ")"
   ]
  },
  {
   "cell_type": "code",
   "execution_count": 32,
   "metadata": {},
   "outputs": [
    {
     "data": {
      "text/plain": [
       "{'_id': ObjectId('5ff940dd26e154c8799cecbe'),\n",
       " 'item': 'paper',\n",
       " 'instock': [{'warehouse': 'A', 'qty': 60}, {'warehouse': 'B', 'qty': 40}]}"
      ]
     },
     "execution_count": 32,
     "metadata": {},
     "output_type": "execute_result"
    }
   ],
   "source": [
    "inventory.find_one({'item': \"paper\"})"
   ]
  },
  {
   "cell_type": "markdown",
   "metadata": {},
   "source": [
    "## Aggregate and Group Functions"
   ]
  },
  {
   "cell_type": "code",
   "execution_count": 33,
   "metadata": {},
   "outputs": [
    {
     "data": {
      "text/plain": [
       "<pymongo.results.InsertManyResult at 0x2068e323a88>"
      ]
     },
     "execution_count": 33,
     "metadata": {},
     "output_type": "execute_result"
    }
   ],
   "source": [
    "mydatabase=client['Students']\n",
    "\n",
    "collection=mydatabase['studentscores']  \n",
    "data = [ \n",
    "    {\"user\":\"Krish\", \"subject\":\"Database\", \"score\":80}, \n",
    "    {\"user\":\"Amit\",  \"subject\":\"JavaScript\", \"score\":90}, \n",
    "    {\"user\":\"Amit\",  \"title\":\"Database\", \"score\":85}, \n",
    "    {\"user\":\"Krish\",  \"title\":\"JavaScript\", \"score\":75}, \n",
    "    {\"user\":\"Amit\",  \"title\":\"Data Science\", \"score\":60},\n",
    "    {\"user\":\"Krish\",  \"title\":\"Data Science\", \"score\":95}] \n",
    "  \n",
    "collection.insert_many(data)\n"
   ]
  },
  {
   "cell_type": "code",
   "execution_count": 37,
   "metadata": {},
   "outputs": [
    {
     "name": "stdout",
     "output_type": "stream",
     "text": [
      "{'_id': 'Amit', 'Total Records': 3}\n",
      "{'_id': 'Krish', 'Total Records': 3}\n"
     ]
    }
   ],
   "source": [
    "# find total number of records w.r.t subjects\n",
    "\n",
    "agg_result1= collection.aggregate(\n",
    "    [{\n",
    "        '$group' :\n",
    "            {\n",
    "                '_id' : \"$user\",\n",
    "                'Total Records' : {'$sum' : 1 }\n",
    "            }\n",
    "    }])\n",
    "\n",
    "for i in agg_result1:\n",
    "    print(i)"
   ]
  },
  {
   "cell_type": "code",
   "execution_count": 39,
   "metadata": {},
   "outputs": [
    {
     "name": "stdout",
     "output_type": "stream",
     "text": [
      "{'_id': 'Amit', 'Total Marks': 235}\n",
      "{'_id': 'Krish', 'Total Marks': 250}\n"
     ]
    }
   ],
   "source": [
    "agg_result2= collection.aggregate([{\n",
    "        \"$group\" : \n",
    "            {\n",
    "                '_id' : '$user',\n",
    "                \"Total Marks\" : {\"$sum\" : \"$score\"}\n",
    "            }\n",
    "}])\n",
    "\n",
    "for i in agg_result2:\n",
    "    print(i)"
   ]
  },
  {
   "cell_type": "code",
   "execution_count": 41,
   "metadata": {},
   "outputs": [
    {
     "name": "stdout",
     "output_type": "stream",
     "text": [
      "{'_id': 'Krish', 'Average Score': 83.33333333333333}\n",
      "{'_id': 'Amit', 'Average Score': 78.33333333333333}\n"
     ]
    }
   ],
   "source": [
    " agg_result3= collection.aggregate([{\n",
    "         \"$group\" : {\n",
    "             '_id' : '$user',\n",
    "             'Average Score' : {'$avg' : '$score'}\n",
    "         }\n",
    " }])\n",
    "    \n",
    "    \n",
    "for i in agg_result3:\n",
    "    print(i)"
   ]
  },
  {
   "cell_type": "code",
   "execution_count": 42,
   "metadata": {},
   "outputs": [],
   "source": [
    "import datetime as  datetime\n",
    "\n",
    "### Create a new collection\n",
    "data=[{ \"_id\" : 1, \"item\" : \"abc\", \"price\" : 10, \"quantity\" : 2, \"date\" : datetime.datetime.utcnow()},\n",
    "{ \"_id\" : 2, \"item\" : \"jkl\", \"price\" : 20, \"quantity\" : 1, \"date\" : datetime.datetime.utcnow() },\n",
    "{ \"_id\" : 3, \"item\" : \"xyz\", \"price\" : 5, \"quantity\" : 5, \"date\" : datetime.datetime.utcnow() },\n",
    "{ \"_id\" : 4, \"item\" : \"abc\", \"price\" : 10, \"quantity\" : 10, \"date\" : datetime.datetime.utcnow() },\n",
    "{ \"_id\" : 5, \"item\" : \"xyz\", \"price\" : 5, \"quantity\" : 10, \"date\" :datetime.datetime.utcnow() }]\n"
   ]
  },
  {
   "cell_type": "code",
   "execution_count": 43,
   "metadata": {},
   "outputs": [
    {
     "data": {
      "text/plain": [
       "[{'_id': 1,\n",
       "  'item': 'abc',\n",
       "  'price': 10,\n",
       "  'quantity': 2,\n",
       "  'date': datetime.datetime(2021, 1, 9, 10, 17, 52, 645156)},\n",
       " {'_id': 2,\n",
       "  'item': 'jkl',\n",
       "  'price': 20,\n",
       "  'quantity': 1,\n",
       "  'date': datetime.datetime(2021, 1, 9, 10, 17, 52, 645156)},\n",
       " {'_id': 3,\n",
       "  'item': 'xyz',\n",
       "  'price': 5,\n",
       "  'quantity': 5,\n",
       "  'date': datetime.datetime(2021, 1, 9, 10, 17, 52, 645156)},\n",
       " {'_id': 4,\n",
       "  'item': 'abc',\n",
       "  'price': 10,\n",
       "  'quantity': 10,\n",
       "  'date': datetime.datetime(2021, 1, 9, 10, 17, 52, 645156)},\n",
       " {'_id': 5,\n",
       "  'item': 'xyz',\n",
       "  'price': 5,\n",
       "  'quantity': 10,\n",
       "  'date': datetime.datetime(2021, 1, 9, 10, 17, 52, 645156)}]"
      ]
     },
     "execution_count": 43,
     "metadata": {},
     "output_type": "execute_result"
    }
   ],
   "source": [
    "data"
   ]
  },
  {
   "cell_type": "code",
   "execution_count": 44,
   "metadata": {},
   "outputs": [
    {
     "data": {
      "text/plain": [
       "<pymongo.results.InsertManyResult at 0x2068e3c0448>"
      ]
     },
     "execution_count": 44,
     "metadata": {},
     "output_type": "execute_result"
    }
   ],
   "source": [
    "mycollection = mydatabase[\"stores\"]\n",
    "mycollection.insert_many(data)"
   ]
  },
  {
   "cell_type": "code",
   "execution_count": 46,
   "metadata": {},
   "outputs": [
    {
     "name": "stdout",
     "output_type": "stream",
     "text": [
      "{'_id': 'abc', 'AverageQuantity': 6.0, 'TotalAvgPrice': 60.0}\n",
      "{'_id': 'xyz', 'AverageQuantity': 7.5, 'TotalAvgPrice': 37.5}\n",
      "{'_id': 'jkl', 'AverageQuantity': 1.0, 'TotalAvgPrice': 20.0}\n"
     ]
    }
   ],
   "source": [
    "## Calculating average quantity\n",
    "\n",
    "agg_result4= mycollection.aggregate([{\n",
    "        '$group' :\n",
    "            {\n",
    "                '_id' : '$item',\n",
    "                'AverageQuantity' : {\"$avg\" : '$quantity'},\n",
    "                'TotalAvgPrice'   : {\"$avg\" : {'$multiply' : ['$quantity', '$price']}}\n",
    "                \n",
    "            }\n",
    "}])\n",
    "\n",
    "\n",
    "for i in agg_result4:\n",
    "    print(i)"
   ]
  },
  {
   "cell_type": "code",
   "execution_count": null,
   "metadata": {},
   "outputs": [],
   "source": []
  },
  {
   "cell_type": "code",
   "execution_count": 47,
   "metadata": {},
   "outputs": [],
   "source": [
    "## $project\n",
    "\n",
    "data=[{\n",
    "  \"_id\" : 1,\n",
    "  \"title\": \"abc123\",\n",
    "  \"isbn\": \"0001122223334\",\n",
    "  \"author\": { \"last\": \"zzz\", \"first\": \"aaa\" },\n",
    "  \"copies\": 5\n",
    "},\n",
    "{\n",
    "  \"_id\" : 2,\n",
    "  \"title\": \"Baked Goods\",\n",
    "  \"isbn\": \"9999999999999\",\n",
    "  \"author\": { \"last\": \"xyz\", \"first\": \"abc\", \"middle\": \"\" },\n",
    "  \"copies\": 2\n",
    "}\n",
    "]\n",
    "\n",
    "\n"
   ]
  },
  {
   "cell_type": "code",
   "execution_count": 48,
   "metadata": {},
   "outputs": [],
   "source": [
    "#another new collection\n",
    "\n",
    "collection2= mydatabase.Books"
   ]
  },
  {
   "cell_type": "code",
   "execution_count": 49,
   "metadata": {},
   "outputs": [
    {
     "data": {
      "text/plain": [
       "<pymongo.results.InsertManyResult at 0x2068e38cfc8>"
      ]
     },
     "execution_count": 49,
     "metadata": {},
     "output_type": "execute_result"
    }
   ],
   "source": [
    "collection2.insert_many(data)"
   ]
  },
  {
   "cell_type": "code",
   "execution_count": 50,
   "metadata": {},
   "outputs": [
    {
     "data": {
      "text/plain": [
       "{'_id': 1,\n",
       " 'title': 'abc123',\n",
       " 'isbn': '0001122223334',\n",
       " 'author': {'last': 'zzz', 'first': 'aaa'},\n",
       " 'copies': 5}"
      ]
     },
     "execution_count": 50,
     "metadata": {},
     "output_type": "execute_result"
    }
   ],
   "source": [
    "collection2.find_one()"
   ]
  },
  {
   "cell_type": "code",
   "execution_count": 55,
   "metadata": {},
   "outputs": [
    {
     "name": "stdout",
     "output_type": "stream",
     "text": [
      "{'_id': 1, 'title': 'abc123'}\n",
      "{'_id': 2, 'title': 'Baked Goods'}\n"
     ]
    }
   ],
   "source": [
    "for row in collection2.aggregate([{ '$project' : {'title' : 1 }}]):\n",
    "    print(row)"
   ]
  },
  {
   "cell_type": "code",
   "execution_count": 56,
   "metadata": {},
   "outputs": [
    {
     "name": "stdout",
     "output_type": "stream",
     "text": [
      "{'_id': 1, 'title': 'abc123', 'isbn': '0001122223334'}\n",
      "{'_id': 2, 'title': 'Baked Goods', 'isbn': '9999999999999'}\n"
     ]
    }
   ],
   "source": [
    "for row in collection2.aggregate([{ '$project' : {'title' : 1 , 'isbn' : 1 }}]):\n",
    "    print(row)"
   ]
  },
  {
   "cell_type": "code",
   "execution_count": null,
   "metadata": {},
   "outputs": [],
   "source": []
  }
 ],
 "metadata": {
  "kernelspec": {
   "display_name": "Python 3",
   "language": "python",
   "name": "python3"
  },
  "language_info": {
   "codemirror_mode": {
    "name": "ipython",
    "version": 3
   },
   "file_extension": ".py",
   "mimetype": "text/x-python",
   "name": "python",
   "nbconvert_exporter": "python",
   "pygments_lexer": "ipython3",
   "version": "3.7.3"
  }
 },
 "nbformat": 4,
 "nbformat_minor": 2
}
